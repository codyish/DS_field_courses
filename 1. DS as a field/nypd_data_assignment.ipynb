{
 "cells": [
  {
   "cell_type": "raw",
   "metadata": {
    "vscode": {
     "languageId": "raw"
    }
   },
   "source": [
    "---\n",
    "title: \"NY Shooting Incident Report\"\n",
    "author: CS\n",
    "format:\n",
    "  pdf: default\n",
    "  docx: default\n",
    "  revealjs:\n",
    "    theme: default   # You can change this to other themes like solarized, white, etc.\n",
    "    slideNumber: true  # Show slide numbers\n",
    "    transition: fade # Slide transition style\n",
    "    center: true   \n",
    "    controls: true     # Show navigation controls\n",
    "    fig:\n",
    "      width: 8   # Increase figure width in inches\n",
    "      height: 5   # Increase figure height in inches\n",
    "     \n",
    "    \n",
    "---"
   ]
  },
  {
   "cell_type": "markdown",
   "metadata": {},
   "source": [
    "\n",
    "<!-- For PDF export only -->\n",
    "::: {pdf}\n",
    "## Assignment.\n",
    "Import, tidy and analyze the NYPD Shooting Incident dataset obtained. Be sure your project is reproducible and contains some visualization and analysis. You may use the data to do any analysis that is of interest to you. You should include at least two visualizations and one model. Be sure to identify any bias possible in the data and in your analysis.\n",
    ":::"
   ]
  },
  {
   "cell_type": "code",
   "execution_count": null,
   "metadata": {
    "vscode": {
     "languageId": "r"
    }
   },
   "outputs": [],
   "source": [
    "library(tidyverse)\n",
    "library(lubridate)\n",
    "library(forecast)"
   ]
  },
  {
   "cell_type": "code",
   "execution_count": 2,
   "metadata": {
    "vscode": {
     "languageId": "r"
    }
   },
   "outputs": [],
   "source": [
    "# import the source data and put it in a df\n",
    "source_url <- paste0(\n",
    "  \"https://data.cityofnewyork.us/api/views/833y-fsy8/rows.csv?\",\n",
    "  \"accessType=DOWNLOAD\"\n",
    ")\n",
    "\n",
    "incident_df <- read.csv(source_url)"
   ]
  },
  {
   "cell_type": "markdown",
   "metadata": {},
   "source": [
    "## Explore"
   ]
  },
  {
   "cell_type": "code",
   "execution_count": null,
   "metadata": {
    "vscode": {
     "languageId": "r"
    }
   },
   "outputs": [],
   "source": [
    "# see what columns we have and what data types\n",
    "glimpse(incident_df)"
   ]
  },
  {
   "cell_type": "markdown",
   "metadata": {},
   "source": [
    "I already see lots of nulls, empty strings, missing values, etc. Let's take a closer look at some of the categorical columns to see if there are a limited number of consistently entered values or if they were entered as free text, which might be too difficult to clean."
   ]
  },
  {
   "cell_type": "code",
   "execution_count": null,
   "metadata": {
    "vscode": {
     "languageId": "r"
    }
   },
   "outputs": [],
   "source": [
    "# break out all the unique values and counts\n",
    "desc_counts <- lapply(incident_df[,\n",
    "  c(\n",
    "    \"LOC_CLASSFCTN_DESC\",\n",
    "    \"LOCATION_DESC\",\n",
    "    \"PERP_RACE\",\n",
    "    \"VIC_RACE\",\n",
    "    \"LOC_OF_OCCUR_DESC\",\n",
    "    \"VIC_SEX\",\n",
    "    \"PERP_SEX\"\n",
    "  )\n",
    "], table)\n",
    "\n",
    "print(desc_counts)"
   ]
  },
  {
   "cell_type": "markdown",
   "metadata": {},
   "source": [
    "Everything seems to be consistently entered (no misspellings or variations.) But there is a weird mix of \"unknown\", \"U\", and \"null\". It will probably be best to recode empty values as \"Unknown\" for consistency. There is something weird in a few columns too."
   ]
  },
  {
   "cell_type": "code",
   "execution_count": null,
   "metadata": {
    "vscode": {
     "languageId": "r"
    }
   },
   "outputs": [],
   "source": [
    "unique(incident_df$PERP_RACE)\n",
    "table(incident_df$PERP_RACE)\n"
   ]
  },
  {
   "cell_type": "markdown",
   "metadata": {},
   "source": [
    "Oh, that's annoying - there is an empty string ```''``` as one of the largest groups, I guess the best option will be to categorize that as ```\"UNKNOWN\"``` as well. While I'm at it I'm going to make the date time columns a little more usable by separating out the date and time and converting them to the right type."
   ]
  },
  {
   "cell_type": "markdown",
   "metadata": {},
   "source": [
    "\n",
    "---\n",
    "\n",
    "## Cleanup"
   ]
  },
  {
   "cell_type": "code",
   "execution_count": null,
   "metadata": {
    "vscode": {
     "languageId": "r"
    }
   },
   "outputs": [],
   "source": [
    "clean_incident_df <- incident_df %>%\n",
    "  mutate(\n",
    "    # Combine the date and time into a proper DateTime object\n",
    "    Date = as.POSIXct(\n",
    "      paste(OCCUR_DATE, OCCUR_TIME), \n",
    "      format = \"%m/%d/%Y %H:%M:%S\"\n",
    "    )\n",
    "  ) %>%\n",
    "  rename(\n",
    "    In_Out = LOC_OF_OCCUR_DESC, \n",
    "    Location_Category = LOC_CLASSFCTN_DESC, \n",
    "    Location_details = LOCATION_DESC\n",
    "  ) %>%\n",
    "  select(\n",
    "    Date, BORO, Location_Category, Location_details, \n",
    "    In_Out, OCCUR_DATE, OCCUR_TIME, \n",
    "    -JURISDICTION_CODE, -X_COORD_CD, -Y_COORD_CD,\n",
    "    -Latitude, -Longitude, -Lon_Lat, -PRECINCT,\n",
    "    everything()\n",
    "  ) %>%\n",
    "  mutate(\n",
    "    # Recode specific values in PERP_RACE and VIC_RACE\n",
    "    PERP_RACE = recode(PERP_RACE, \n",
    "                       \"ASIAN / PACIFIC ISLANDER\" = \"ASIAN_PAC_ISLAND\",\n",
    "                       \"AMERICAN INDIAN/ALASKAN NATIVE\" = \"AM_INDIAN/ALASKAN\"\n",
    "    ),\n",
    "    VIC_RACE = recode(VIC_RACE, \n",
    "                      \"ASIAN / PACIFIC ISLANDER\" = \"ASIAN_PAC_ISLAND\",\n",
    "                      \"AMERICAN INDIAN/ALASKAN NATIVE\" = \"AM_INDIAN/ALASKAN\"\n",
    "    ),\n",
    "    # Recode empty or null values to \"UNKNOWN\" for PERP_RACE\n",
    "    PERP_RACE = ifelse(PERP_RACE == \"\", \"UNKNOWN\", PERP_RACE),\n",
    "    \n",
    "    # Recode unknown, empty, or NA values to \"U\" for both victim and perpetrator sex\n",
    "    PERP_SEX = ifelse(PERP_SEX %in% c(\"Unknown\", \"\",\"(null)\", NA), \"U\", PERP_SEX),\n",
    "    VIC_SEX = ifelse(VIC_SEX %in% c(\"Unknown\", \"\", NA), \"U\", VIC_SEX)\n",
    "  )\n",
    "\n",
    "# Check that the recoding worked as expected\n",
    "unique(clean_incident_df$PERP_SEX)  # Should show only \"M\", \"F\", and \"U\"\n",
    "unique(clean_incident_df$VIC_SEX)   # Should show only \"M\", \"F\", and \"U\"\n",
    "# check that I have the columns and order that I wanted\n",
    "glimpse(clean_incident_df)\n",
    "\n",
    "# check that we fixed the empty string values\n",
    "unique(clean_incident_df$PERP_RACE)\n",
    "\n",
    "# printing a df is a little uglier in some ways but prevents text\n",
    "# overlap when there are lots of columns or long column names\n",
    "print(tail(clean_incident_df))"
   ]
  },
  {
   "cell_type": "markdown",
   "metadata": {},
   "source": [
    "I'm going to make a few different dataframes with different groups for eventual analysis and plotting. Things I'm going to start with\n",
    "\n",
    "* Daily incidents over time to look for general trends\n",
    "* Incidents by month and year\n",
    "* Incidents by borough\n",
    "* Incidents by month (not over time, so total incidents that occured in each month summed over all years)\n",
    "* Time and year data broken down by borough\n",
    "* Victim and perpetrator by sex"
   ]
  },
  {
   "cell_type": "code",
   "execution_count": null,
   "metadata": {
    "vscode": {
     "languageId": "r"
    }
   },
   "outputs": [],
   "source": [
    "# for plotting incidents over time\n",
    "time_series_df <- clean_incident_df %>%\n",
    "  mutate(simple_date = as.Date(OCCUR_DATE, format = \"%m/%d/%Y\")) %>%\n",
    "  group_by(simple_date) %>%\n",
    "# Add a new column that represents only the month and year\n",
    "# This step may be unnecessary since I have a good date column\n",
    "# but it's easier for me to understand\n",
    "  summarise(total_by_day = n()) %>%\n",
    "  mutate(month_year = floor_date(simple_date, \"month\")) \n",
    "\n",
    "# for plotting overtime by month and year \n",
    "df_aggregated <- time_series_df %>%\n",
    "  mutate(year = format(simple_date, \"%Y\"),\n",
    "         month = format(simple_date, \"%m\")) %>%\n",
    "  group_by(year, month) %>%\n",
    "  summarise(total_by_month = sum(total_by_day)) %>%\n",
    "   mutate(\n",
    "    year = as.numeric(year),   # Convert year to numeric\n",
    "    month = as.numeric(month)  # Convert month to numeric\n",
    "  ) %>%\n",
    "  ungroup()\n",
    "\n",
    "# borough totals\n",
    "total_by_borough <- clean_incident_df %>%\n",
    "  group_by(BORO) %>%\n",
    "  summarize(total_incidents = n())\n",
    "\n",
    "# monthly borough totals\n",
    "monthly_totals_by_borough <- clean_incident_df %>%\n",
    "  mutate(month = floor_date(Date, \"month\")) %>%\n",
    "  mutate(month = as.Date(month)) %>%\n",
    "  group_by(BORO, month) %>%\n",
    "  summarize(monthly_incidents = n()) %>%\n",
    "  ungroup()\n",
    "\n",
    "# victim and perp by sex\n",
    "totals_by_sex <- clean_incident_df %>%\n",
    "  group_by(PERP_SEX, VIC_SEX) %>%\n",
    "  summarise(\n",
    "    Total_Victims = n(),        # Count number of victims in each group\n",
    "    Total_Perps = n()           # Count number of perpetrators in each group\n",
    "  )\n",
    "\n",
    "\n",
    "tail(time_series_df)\n",
    "tail(df_aggregated)\n",
    "tail(total_by_borough)\n",
    "tail(monthly_totals_by_borough)\n",
    "tail(totals_by_sex,9)"
   ]
  },
  {
   "cell_type": "markdown",
   "metadata": {},
   "source": [
    "That's looks pretty good. We'll progress through some basic plots to see what patterns or trends we see which can guide the next visualizations."
   ]
  },
  {
   "cell_type": "markdown",
   "metadata": {},
   "source": [
    "---\n",
    "\n",
    "## Visualization\n"
   ]
  },
  {
   "cell_type": "code",
   "execution_count": 8,
   "metadata": {
    "vscode": {
     "languageId": "r"
    }
   },
   "outputs": [],
   "source": [
    "# Set global plot size options for the notebook\n",
    "options(repr.plot.width = 10, repr.plot.height = 7)"
   ]
  },
  {
   "cell_type": "code",
   "execution_count": null,
   "metadata": {
    "vscode": {
     "languageId": "r"
    }
   },
   "outputs": [],
   "source": [
    "#| fig-align: center\n",
    "theme_set(theme_minimal())\n",
    "\n",
    "# plot daily incidents\n",
    "ggplot(time_series_df, aes(x = simple_date, y = total_by_day)) +\n",
    "  geom_line(color = \"skyblue\") +\n",
    "  labs(\n",
    "    title = \"Fig.1 - Daily Incidents\",\n",
    "    x = \"Date\",\n",
    "    y = \"Incident Count\"\n",
    "  )"
   ]
  },
  {
   "cell_type": "markdown",
   "metadata": {},
   "source": [
    "Fig 1 -  Daily incidents - hard to see many trends since the data is so noisy, but it does look like it's generally periodic and there is a big spike around the first covid summer.\n",
    "\n",
    "---\n"
   ]
  },
  {
   "cell_type": "code",
   "execution_count": null,
   "metadata": {
    "vscode": {
     "languageId": "r"
    }
   },
   "outputs": [],
   "source": [
    "#| fig-align: center\n",
    "\n",
    "# plot monthly incidents over time\n",
    "ggplot(time_series_df, aes(x = month_year, y = total_by_day)) +\n",
    "  geom_bar(stat = \"identity\", fill = \"skyblue\") +\n",
    "  labs(\n",
    "       title = \"Fig. 2 - Total Occurrences by Month\",\n",
    "       x = \"Year\", \n",
    "       y = \"Total Occurrences\",\n",
    "       caption = \"Source: NYPD Shooting Incident Data, 2020\") +\n",
    "  scale_x_date(date_labels = \"%Y\", date_breaks = \"1 year\")\n"
   ]
  },
  {
   "cell_type": "markdown",
   "metadata": {},
   "source": [
    "Fig 2 -  Total occurences by month over time - clearer seasonality and a little easier to see the pre- and post-covid trends\n",
    "\n",
    "---"
   ]
  },
  {
   "cell_type": "code",
   "execution_count": null,
   "metadata": {
    "vscode": {
     "languageId": "r"
    }
   },
   "outputs": [],
   "source": [
    "#| fig-align: center\n",
    "# plot yearly incidents\n",
    "ggplot(time_series_df, aes(\n",
    "  x = year(simple_date), \n",
    "  y = total_by_day)) +\n",
    "  geom_bar(stat = \"identity\", fill = \"skyblue\") +\n",
    "  labs(\n",
    "       title = \"Fig. 3 - Total Occurrences by Year\",\n",
    "       x = \"Year\",\n",
    "       y = \"Total Occurrences\")\n",
    "\n"
   ]
  },
  {
   "cell_type": "markdown",
   "metadata": {},
   "source": [
    "Fig 3 -  Total occurences by year - now we can see trends. Decreasing incidents starting in the early 20-teens and flattening out, before a big covid spike and almost back down to pre-covid levels.\n"
   ]
  },
  {
   "cell_type": "code",
   "execution_count": null,
   "metadata": {
    "vscode": {
     "languageId": "r"
    }
   },
   "outputs": [],
   "source": [
    "\n",
    "# Plot occurrences by month (across all years)\n",
    "ggplot(time_series_df, aes(\n",
    "  x = month(simple_date, label = TRUE),\n",
    "  y = total_by_day\n",
    "  )) +\n",
    "  geom_bar(\n",
    "    stat = \"identity\", \n",
    "    fill = \"skyblue\"\n",
    "  ) +\n",
    "  labs(\n",
    "    title = \"Fig. 4 - Total Occurrences by Month\",\n",
    "    x = \"Month\",\n",
    "    y = \"Total Occurrences\"\n",
    "  )\n",
    "\n"
   ]
  },
  {
   "cell_type": "markdown",
   "metadata": {},
   "source": [
    "Fig 4 -  Total occurences by month - pretty strong visual trend towards higher incidents in the hottest months, which is a well studied phenomenon.\n",
    "\n",
    "---\n"
   ]
  },
  {
   "cell_type": "code",
   "execution_count": null,
   "metadata": {
    "vscode": {
     "languageId": "r"
    }
   },
   "outputs": [],
   "source": [
    "\n",
    "# Plot total by borough\n",
    "ggplot(total_by_borough, aes(\n",
    "  x = BORO,\n",
    "  y = total_incidents\n",
    ")) +\n",
    "  geom_bar(\n",
    "    stat = \"identity\",\n",
    "    fill = \"skyblue\"\n",
    "  ) +\n",
    "  labs(\n",
    "    title = \"Fig. 5 - Total by Borough\",\n",
    "    x = \"Borough\",\n",
    "    y = \"Total\"\n",
    "  )\n"
   ]
  },
  {
   "cell_type": "markdown",
   "metadata": {},
   "source": [
    "Fig 5 -  Total by borough - generaly interesting, but would be more useful with the context of per capita and per area data for the boroughs.\n",
    "\n",
    "---\n"
   ]
  },
  {
   "cell_type": "code",
   "execution_count": null,
   "metadata": {
    "vscode": {
     "languageId": "r"
    }
   },
   "outputs": [],
   "source": [
    "\n",
    "# Borough totals monthly\n",
    "ggplot(monthly_totals_by_borough, aes(\n",
    "  x = month,\n",
    "  y = monthly_incidents,\n",
    "  color = BORO)\n",
    "  ) +\n",
    "  # I wanted to try a line instead of a bar\n",
    "  geom_line(linewidth = 1.2) +\n",
    "  geom_point(size = 2) +\n",
    "  labs(\n",
    "    title = \"Fig. 6 - Monthly Incidents by Borough\", \n",
    "    x = \"Month\",\n",
    "    y = \"Total Incidents\"\n",
    "  ) +\n",
    "  scale_x_date(date_labels = \"%b %Y\", date_breaks = \"6 month\") +\n",
    "  theme(axis.text.x = element_text(angle = 45, hjust = 1))\n",
    "\n",
    "\n",
    "# Plot incidents by year for each borough with side-by-side bars\n",
    "ggplot(monthly_totals_by_borough, aes(\n",
    "  x = year(month), \n",
    "  y = monthly_incidents, \n",
    "  fill = BORO)\n",
    "  ) +\n",
    "  # Use dodge for side-by-side bars\n",
    "  geom_bar(stat = \"identity\", position = \"dodge\") +\n",
    "  labs(\n",
    "    title = \"Fig. 7 - Yearly Incidents by Borough\",\n",
    "    x = \"Year\",\n",
    "    y = \"Total Incidents\")\n"
   ]
  },
  {
   "cell_type": "markdown",
   "metadata": {},
   "source": [
    "Fig 6/7 -  Boroughs over time - interesting to see that not all boroughs follow the same trends over time, and that the first covid spike was driven heavily by increased in Brooklyn.\n",
    "\n",
    "---\n"
   ]
  },
  {
   "cell_type": "code",
   "execution_count": null,
   "metadata": {
    "vscode": {
     "languageId": "r"
    }
   },
   "outputs": [],
   "source": [
    "\n",
    "# plot for total victims of each sex by perpetrator sex\n",
    "ggplot(totals_by_sex, aes(\n",
    "  x = PERP_SEX, \n",
    "  y = Total_Victims, \n",
    "  fill = VIC_SEX)\n",
    "  ) +\n",
    "  geom_bar(stat = \"identity\", position = \"dodge\") +\n",
    "  labs(\n",
    "    title = \"Fig. 8 - Victim Sex by Perpetrator Sex\",\n",
    "    x = \"Perpetrator Sex\",\n",
    "    y = \"Total Victims\",\n",
    "    fill = \"Victim Sex\"\n",
    "  ) +\n",
    "  theme_minimal()\n"
   ]
  },
  {
   "cell_type": "markdown",
   "metadata": {},
   "source": [
    "Fig 8 - Totals of victim sex group by perpetrator sex - there are fewer total female victims than I would have expected. I'm going to use this visualization as inspiration for my first simple model below."
   ]
  },
  {
   "cell_type": "markdown",
   "metadata": {},
   "source": [
    "We could keep going with similar visuals (breakdown by race, gender, age group, etc. or relationships between group like victime age relative to perpetrator age) but I'll stop there. I'm going to focus on victim sex for the analysis and modeling component. I want to see how predictive of a victime being female some of the other attributes (perpetrator race and sex, victime race). I'll start with a simple model of victim sex as predicted by perpetrator sex. To start will have to exclude the \"unknowns\" from victim sex and clean up some of the other factors."
   ]
  },
  {
   "cell_type": "markdown",
   "metadata": {},
   "source": [
    "\n",
    "---\n",
    "\n",
    "## Modeling"
   ]
  },
  {
   "cell_type": "markdown",
   "metadata": {},
   "source": [
    "### Sex differences among victims and perpetrators\n",
    "\n",
    "For my first simple model I want to do a basic breakdown or how a perpetrator of a given sex affects the odds of the victim being a give sex."
   ]
  },
  {
   "cell_type": "code",
   "execution_count": null,
   "metadata": {
    "vscode": {
     "languageId": "r"
    }
   },
   "outputs": [],
   "source": [
    "# Convert all categorical variables to factors\n",
    "clean_incident_df$VIC_SEX <- factor(clean_incident_df$VIC_SEX)\n",
    "clean_incident_df$BORO <- factor(clean_incident_df$BORO)\n",
    "clean_incident_df$VIC_RACE <- factor(clean_incident_df$VIC_RACE)\n",
    "clean_incident_df$PERP_RACE <- factor(clean_incident_df$PERP_RACE)\n",
    "clean_incident_df$PERP_SEX <- factor(clean_incident_df$PERP_SEX)\n",
    "\n",
    "# Apply droplevels to all factor columns (to remove unused levels)\n",
    "clean_incident_df <- clean_incident_df %>%\n",
    "  mutate_if(is.factor, droplevels)\n",
    "\n",
    "# Set \"M\" as the victim reference so that we model the odds of being \"Female\"\n",
    "# Set the reference race for victims and perps as \"white\"\n",
    "clean_incident_df$VIC_SEX <- relevel(clean_incident_df$VIC_SEX, ref = \"M\")\n",
    "clean_incident_df$VIC_RACE <- relevel(clean_incident_df$VIC_RACE, ref = \"WHITE\")\n",
    "clean_incident_df$PERP_RACE <- relevel(clean_incident_df$PERP_RACE, ref = \"WHITE\")\n",
    "\n",
    "# Check the levels of the factor to confirm they are correct\n",
    "levels(clean_incident_df$VIC_SEX)\n",
    "levels(clean_incident_df$PERP_SEX)\n",
    "levels(clean_incident_df$PERP_RACE)"
   ]
  },
  {
   "cell_type": "code",
   "execution_count": null,
   "metadata": {
    "vscode": {
     "languageId": "r"
    }
   },
   "outputs": [],
   "source": [
    "# create a simple generalize linear model to predict odds of female victim\n",
    "# based on perp sex\n",
    "simple_model_vic_sex <- glm(VIC_SEX ~ PERP_SEX,\n",
    "  family=binomial,\n",
    "  data=clean_incident_df,\n",
    "  na.action = na.exclude)\n",
    "\n",
    "summary(simple_model_vic_sex)"
   ]
  },
  {
   "cell_type": "markdown",
   "metadata": {},
   "source": [
    "It looks like each perpetrator sex option has a statistically significant effect on the change in log-odds of the victim being female, so I'll pull out each of them and convert them to odds."
   ]
  },
  {
   "cell_type": "code",
   "execution_count": null,
   "metadata": {
    "vscode": {
     "languageId": "r"
    }
   },
   "outputs": [],
   "source": [
    "print(\"Log-odds are\")\n",
    "print(coef(simple_model_vic_sex)[c(\"PERP_SEXM\",\"PERP_SEXU\")])\n",
    "\n",
    "#convert log-odds to odds and print\n",
    "print(\"The odds relative to the female victim/female perpetrator baseline are\")\n",
    "print((exp(coef(simple_model_vic_sex)[c(\"PERP_SEXM\",\"PERP_SEXU\")])))\n",
    "\n",
    "# Print odds for when the perpetrator is female\n",
    "paste(\n",
    "  \"The odds of a victim being female when the perpetrator is female are\",\n",
    "  round(exp(coef(simple_model_vic_sex)[\"(Intercept)\"]), 2)\n",
    ")\n",
    "\n",
    "# Print odds for when the perpetrator is male\n",
    "paste0(\n",
    "  \"The odds of a victim being female when the perpetrator is male are \",\n",
    "  round(exp(coef(simple_model_vic_sex)[\"PERP_SEXM\"]), 2) * 100,\n",
    "  \"% of baseline\"\n",
    ")\n",
    "\n",
    "# Print odds for when the perpetrator is unknown\n",
    "paste0(\n",
    "  \"The odds of a victim being female when the perpetrator is unknown are \",\n",
    "  round(exp(coef(simple_model_vic_sex)[\"PERP_SEXU\"]), 2) * 100,\n",
    "  \"% of baseline\"\n",
    ")"
   ]
  },
  {
   "cell_type": "markdown",
   "metadata": {},
   "source": [
    "### Simple Summer prediction from Winter data\n",
    "\n",
    "This isn't exactly a model, but I wanted to see how consistently the ratios of incidents in the Summer relative to Winter have been year over year."
   ]
  },
  {
   "cell_type": "code",
   "execution_count": null,
   "metadata": {
    "vscode": {
     "languageId": "r"
    }
   },
   "outputs": [],
   "source": [
    "# make a better df for monthly modeling\n",
    "monthly_totals <- time_series_df %>%\n",
    "  group_by(month_year) %>%\n",
    "  summarise(total_by_month = sum(total_by_day))\n",
    "\n",
    "# Check the aggregated data\n",
    "tail(monthly_totals)"
   ]
  },
  {
   "cell_type": "code",
   "execution_count": null,
   "metadata": {
    "vscode": {
     "languageId": "r"
    }
   },
   "outputs": [],
   "source": [
    "# make a simple ratio model based on high and low seasons\n",
    "# Aggregate by year and calculate sum for January-March and \n",
    "seasonal_totals <- df_aggregated %>%\n",
    "  mutate(season = case_when(\n",
    "    month %in% c(1, 2, 3) ~ \"low_season\",\n",
    "    month %in% c(6, 7, 8) ~ \"high_season\",\n",
    "    TRUE ~ NA_character_\n",
    "  )) %>%\n",
    "  filter(!is.na(season)) %>%  # Filter to keep only rows with season\n",
    "  group_by(year, season) %>%\n",
    "  summarise(total = sum(total_by_month, na.rm = TRUE), .groups = \"drop\") %>%\n",
    "  pivot_wider(names_from = season, values_from = total) %>%\n",
    "  mutate(ratio = (high_season / low_season) * 100)\n",
    "\n",
    "# plot the simple ratio results\n",
    "ggplot(seasonal_totals, aes(\n",
    "  x = year,\n",
    "  y = ratio\n",
    ")) + \n",
    "  geom_bar(\n",
    "    stat = \"identity\",\n",
    "    fill = \"skyblue\"\n",
    "  ) + \n",
    "labs(\n",
    "  title = \"High Season (Jun-Aug) vs Low season (Jan-Mar)\",\n",
    "  x = \"Year\",\n",
    "  y = \"% of Low Season\"\n",
    ")"
   ]
  },
  {
   "cell_type": "markdown",
   "metadata": {},
   "source": [
    "I think this is an interesting view of how consistently the ratio of incidents in the worst 3 months each year are to the lowest 3 months. This is an example of a quick and easy naive estimation that could be used for things like predicting staffing or resource needs for later in the year.\n",
    "\n",
    "### More advance forecasting model\n",
    "\n",
    "\n",
    "I want to take it a step further and see what could be done with some simple forecasting models. Will use seasonal ARIMA (SARIMA) which considers seasonality as well as recent trends to create a future forecast. It's import to not that this model uses only the previous data, it doesn't consider other variables. For instance, if there are always higher shooting rates when the year before was hotter or the stock market was lower, it won't include that information."
   ]
  },
  {
   "cell_type": "code",
   "execution_count": null,
   "metadata": {
    "vscode": {
     "languageId": "r"
    }
   },
   "outputs": [],
   "source": [
    "# make time series friendly\n",
    "start_year <- as.numeric(format(min(monthly_totals$month_year), \"%Y\"))\n",
    "start_month <- as.numeric(format(min(monthly_totals$month_year), \"%m\"))\n",
    "\n",
    "# Convert to a time series object (monthly frequency)\n",
    "monthly_incident_ts <- ts(monthly_totals$total_by_month, start = c(start_year, start_month), frequency = 12)\n",
    "\n",
    "# Check the time series\n",
    "print(monthly_incident_ts)"
   ]
  },
  {
   "cell_type": "code",
   "execution_count": null,
   "metadata": {
    "vscode": {
     "languageId": "r"
    }
   },
   "outputs": [],
   "source": [
    "sarima_forecast <- auto.arima(monthly_incident_ts, seasonal = TRUE)\n",
    "\n",
    "# Summary of the SARIMA model\n",
    "summary(sarima_forecast)\n",
    "\n",
    "# Forecasting the next 12 months\n",
    "forecast_values <- forecast::forecast(sarima_forecast, h = 12)\n",
    "\n",
    "# Plot the forecast\n",
    "autoplot(forecast_values) +\n",
    "  labs(x = \"Date\", y = \"Value\", title = \"SARIMA Forecast\") +\n",
    "  theme(axis.text.x = element_text(angle = 45, hjust = 1))\n",
    "\n",
    "# create a zoomed in version\n",
    "autoplot(forecast_values) +\n",
    "  labs(title = \"Zoomed Forecast\", x = \"Year\", y = \"Totals\") +\n",
    "  xlim(c(2019, 2025)) +  # Adjust x-axis to show the previous 12 months and forecast\n",
    "  theme(axis.text.x = element_text(angle = 45, hjust = 1))"
   ]
  },
  {
   "cell_type": "code",
   "execution_count": null,
   "metadata": {
    "vscode": {
     "languageId": "r"
    }
   },
   "outputs": [],
   "source": [
    "# Print the confidence intervals for the next 5 months\n",
    "next_12_conf_intervals <- data.frame(\n",
    "  month2024 = c(1:12),  \n",
    "  forecast = forecast_values$mean[1:12],\n",
    "  lower_80 = forecast_values$lower[1:12, 1],  # 80% lower bound\n",
    "  upper_80 = forecast_values$upper[1:12, 1],  # 80% upper bound\n",
    "  lower_95 = forecast_values$lower[1:12, 2],\n",
    "  upper_95 = forecast_values$upper[1:12, 2]\n",
    ") %>%\n",
    "  mutate(across(everything(), \\(x) round(x, 0))\n",
    ")\n",
    "\n",
    "next_12_conf_intervals"
   ]
  },
  {
   "cell_type": "markdown",
   "metadata": {},
   "source": [
    "That's pretty neat. Relatively wide confidence intervals but the forecasted trend looks reasonable and could be useful for relatively low effort.\n",
    "\n",
    "That's the end of the analysis I'm comfortable with. Below I wanted to see what it would look like to do similar modeling with multiple predictor variables (perp sex, race, borough.) It looks like it worked, but it gets out of hand to interpret it pretty quickly so I just stopped and left it here as an interesting example of what else could be done."
   ]
  },
  {
   "cell_type": "code",
   "execution_count": null,
   "metadata": {
    "vscode": {
     "languageId": "r"
    }
   },
   "outputs": [],
   "source": [
    "model_vic_sex <- glm(VIC_SEX ~ BORO + VIC_RACE + \n",
    "  PERP_SEX + PERP_RACE, \n",
    "  family=binomial, \n",
    "  data=clean_incident_df,\n",
    "  na.action = na.exclude)\n",
    "\n",
    "print(levels(clean_incident_df$VIC_RACE))\n",
    "print(levels(clean_incident_df$PERP_RACE))\n",
    "print(levels(clean_incident_df$BORO))\n",
    "print(summary(model_vic_sex))"
   ]
  },
  {
   "cell_type": "code",
   "execution_count": null,
   "metadata": {
    "vscode": {
     "languageId": "r"
    }
   },
   "outputs": [],
   "source": [
    "#| echo: false\n",
    "#| include: false\n",
    "\n",
    "library(broom)\n",
    "\n",
    "tidy_model <- tidy(model_vic_sex)\n",
    "print(tidy_model, n=Inf)"
   ]
  },
  {
   "cell_type": "code",
   "execution_count": null,
   "metadata": {
    "vscode": {
     "languageId": "r"
    }
   },
   "outputs": [],
   "source": [
    "#| echo: false\n",
    "#| include: false\n",
    "\n",
    "# Convert to a dataframe and print\n",
    "tidy_model_df <- as.data.frame(tidy_model)\n",
    "\n",
    "# Print the dataframe (all rows will be printed)\n",
    "# Format specific numeric columns with decimal notation and fixed decimal places\n",
    "tidy_model_df_formatted <- tidy_model_df\n",
    "tidy_model_df_formatted$p.value <- format(\n",
    "  tidy_model_df_formatted$p.value, scientific = FALSE, digits = 1)\n",
    "\n",
    "\n",
    "# Print the entire dataframe with the formatted column(s)\n",
    "(tidy_model_df_formatted)"
   ]
  },
  {
   "cell_type": "markdown",
   "metadata": {},
   "source": [
    "## Potential Bias {.smaller}\n",
    "\n",
    "There are several sources of potential bias in this report:\n",
    "\n",
    "* **Collection bias**: Some of the categorical variable options, such as the descriptions of locations or location categories, are limited, and some actual locations may be ambiguous. The racial categorization options are also somewhat limited compared to the true diversity of racial and ethnic backgrounds. The racial categorization is likely to have been chosen by someone other than the subject, so the selected race may not be accurate or reflect how the subject (victim or perpetrator) would self-identify.\n",
    "\n",
    "* **Analysis bias**: There are likely many interesting insights in this data regarding race (relationship between race of perpetrator and victim, racial distribution of incidents throughout the boroughs, etc.), but I deliberately avoided any in-depth analysis of those categories. I believed it would be more complicated and nuanced than my current ability and available time would allow me to do well.\n",
    "---"
   ]
  },
  {
   "cell_type": "code",
   "execution_count": null,
   "metadata": {
    "vscode": {
     "languageId": "r"
    }
   },
   "outputs": [],
   "source": [
    "sessionInfo()"
   ]
  }
 ],
 "metadata": {
  "kernelspec": {
   "display_name": "R",
   "language": "R",
   "name": "ir"
  },
  "language_info": {
   "codemirror_mode": "r",
   "file_extension": ".r",
   "mimetype": "text/x-r-source",
   "name": "R",
   "pygments_lexer": "r",
   "version": "4.4.1"
  }
 },
 "nbformat": 4,
 "nbformat_minor": 2
}
