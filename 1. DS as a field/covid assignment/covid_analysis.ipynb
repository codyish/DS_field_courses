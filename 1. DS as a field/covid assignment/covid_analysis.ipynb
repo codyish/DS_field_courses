{
 "cells": [
  {
   "cell_type": "raw",
   "metadata": {
    "vscode": {
     "languageId": "raw"
    }
   },
   "source": [
    "---\n",
    "title: \"Covid Analysis and Models\"\n",
    "author: Cody S\n",
    "format:\n",
    "  pdf:\n",
    "    code-wrap: true\n",
    "    line-breaks: true\n",
    "  html: default\n",
    "  docx: default\n",
    "---"
   ]
  },
  {
   "cell_type": "code",
   "execution_count": null,
   "metadata": {
    "vscode": {
     "languageId": "r"
    }
   },
   "outputs": [],
   "source": [
    "library(\"tidyverse\")"
   ]
  },
  {
   "cell_type": "markdown",
   "metadata": {},
   "source": [
    "## Goal\n",
    "\n",
    "My main goal will be to see if I can get a general sense of how the number of deaths relative to the number of cases changed as vaccines were developed and rolled out."
   ]
  },
  {
   "cell_type": "markdown",
   "metadata": {},
   "source": [
    "## Import Data"
   ]
  },
  {
   "cell_type": "code",
   "execution_count": 2,
   "metadata": {
    "vscode": {
     "languageId": "r"
    }
   },
   "outputs": [],
   "source": [
    "# set urls\n",
    "\n",
    "global_cases_url <- \"https://raw.githubusercontent.com/CSSEGISandData/COVID-19/refs/heads/master/csse_covid_19_data/csse_covid_19_time_series/time_series_covid19_confirmed_global.csv\"\n",
    "\n",
    "global_deaths_url <- \"https://raw.githubusercontent.com/CSSEGISandData/COVID-19/refs/heads/master/csse_covid_19_data/csse_covid_19_time_series/time_series_covid19_deaths_global.csv\"\n",
    "\n",
    "US_cases_url <- \"https://raw.githubusercontent.com/CSSEGISandData/COVID-19/refs/heads/master/csse_covid_19_data/csse_covid_19_time_series/time_series_covid19_confirmed_US.csv\"\n",
    "\n",
    "US_death_url <- \"https://raw.githubusercontent.com/CSSEGISandData/COVID-19/refs/heads/master/csse_covid_19_data/csse_covid_19_time_series/time_series_covid19_deaths_US.csv\""
   ]
  },
  {
   "cell_type": "code",
   "execution_count": 3,
   "metadata": {
    "vscode": {
     "languageId": "r"
    }
   },
   "outputs": [],
   "source": [
    "#import to dataframes\n",
    "\n",
    "global_cases <- read.csv(global_cases_url)\n",
    "global_deaths <- read.csv(global_deaths_url)\n",
    "US_cases <- read.csv(US_cases_url)\n",
    "US_deaths <- read.csv(US_death_url)\n",
    "\n",
    "all_data <- list(global_cases, global_deaths, US_cases, US_deaths)\n"
   ]
  },
  {
   "cell_type": "code",
   "execution_count": null,
   "metadata": {
    "vscode": {
     "languageId": "r"
    }
   },
   "outputs": [],
   "source": [
    "lapply(all_data, head)"
   ]
  },
  {
   "cell_type": "markdown",
   "metadata": {},
   "source": [
    "## Start cleaning and organizing\n",
    "\n",
    "The data is broken down into pretty small regions, and the regions are the rows and the dates are the columns. My main goal will be consolidated all of the global data into a single time series of cases and deaths, and all of the USA data in the same way for comparison. This will mostly involve dropping the geographic breakdown and pivoting the data so that the dates are the rows."
   ]
  },
  {
   "cell_type": "code",
   "execution_count": null,
   "metadata": {
    "vscode": {
     "languageId": "r"
    }
   },
   "outputs": [],
   "source": [
    "geo_rename <- function(df) {\n",
    "  df <- df %>%\n",
    "    rename(Province.State = Province_State,\n",
    "           Country.Region = Country_Region) %>%\n",
    "    select(-Admin2, -UID, -FIPS, -code3, -Combined_Key, -starts_with(\"iso\"))\n",
    "\n",
    "  return(df)\n",
    "}\n",
    "\n",
    "US_cases_renamed <- geo_rename(US_cases)\n",
    "US_deaths_renamed <- geo_rename(US_deaths)\n",
    "\n",
    "lapply(list(US_cases_renamed, US_deaths_renamed), head)\n"
   ]
  },
  {
   "cell_type": "code",
   "execution_count": null,
   "metadata": {
    "vscode": {
     "languageId": "r"
    }
   },
   "outputs": [],
   "source": [
    "# drop some columns and pivot to dates\n",
    "pivot_organize <- function(df) {\n",
    "  df <- df %>%\n",
    "    select(-Lat, -contains(\"Long\"), -contains(\"Population\")) %>%\n",
    "    pivot_longer(\n",
    "        cols = -c(Province.State, Country.Region),\n",
    "        names_to = \"Date\",\n",
    "        values_to = \"Cases\"\n",
    "    ) %>%\n",
    "    select(Date, Country.Region, Province.State, Cases\n",
    "    ) %>%\n",
    "    mutate(Date = sub(\"^X\", \"\", Date)\n",
    "    ) %>%\n",
    "     mutate(Date = as.Date(Date,format = \"%m.%d.%y\"))\n",
    "\n",
    "  return(df)\n",
    "}\n",
    "\n",
    "# apply the pivot and reorganization to all data sets\n",
    "global_cases_clean <- pivot_organize(global_cases)\n",
    "global_deaths_clean <- pivot_organize(global_deaths)\n",
    "us_cases_clean <- pivot_organize(US_cases_renamed)\n",
    "us_deaths_clean <- pivot_organize(US_deaths_renamed)\n",
    "\n",
    "# make sure to keep cases and deaths straight\n",
    "global_deaths_clean <- global_deaths_clean %>%\n",
    "  rename(Deaths = Cases)\n",
    "us_deaths_clean <- us_deaths_clean %>%\n",
    "  rename(Deaths = Cases)\n",
    "\n",
    "all_data_clean <- list(global_cases_clean, global_deaths_clean, us_cases_clean, us_deaths_clean)\n",
    "\n",
    "lapply(all_data_clean, head)"
   ]
  },
  {
   "cell_type": "markdown",
   "metadata": {},
   "source": [
    "Now we need to consolidate all of the sub-region data into overal totals. The next few steps will be complicated so I'm going to do it with global data first."
   ]
  },
  {
   "cell_type": "code",
   "execution_count": null,
   "metadata": {
    "vscode": {
     "languageId": "r"
    }
   },
   "outputs": [],
   "source": [
    "# make a simple global daily cases df with a weekly column as well\n",
    "global_daily_cases <- global_cases_clean %>%\n",
    "    group_by(Date) %>%\n",
    "    summarise(Total_cases = sum(Cases)) %>%\n",
    "    mutate(New_daily_cases = Total_cases - lag(Total_cases, n = 1, default = NA)) %>%\n",
    "    mutate(Week = floor_date(Date, unit = \"week\", week_start = 1))\n",
    "\n",
    "global_daily_deaths <- global_deaths_clean %>%\n",
    "    group_by(Date) %>%\n",
    "    summarise(Total_deaths = sum(Deaths)) %>%\n",
    "    mutate(New_daily_deaths = Total_deaths - lag(Total_deaths, n = 1, default = NA)) %>%\n",
    "    mutate(Week = floor_date(Date, unit = \"week\", week_start = 1))\n",
    "\n",
    "tail(global_daily_cases)\n",
    "tail(global_daily_deaths)"
   ]
  },
  {
   "cell_type": "code",
   "execution_count": null,
   "metadata": {
    "vscode": {
     "languageId": "r"
    }
   },
   "outputs": [],
   "source": [
    "# combine daily deaths and cases \n",
    "daily_global_combo <- left_join(global_daily_cases, global_daily_deaths, by = \"Date\")\n",
    "\n",
    "daily_global_combo <- daily_global_combo %>%\n",
    "    select(-Week.x) %>%\n",
    "    rename(Week = Week.y)\n",
    "\n",
    "# create a weekly global death/cases df\n",
    "weekly_global_combo <- daily_global_combo %>%\n",
    "    group_by(Week) %>%\n",
    "    summarise(\n",
    "        g_Weekly_total_cases = last(Total_cases),\n",
    "        g_Weekly_total_deaths = last(Total_deaths),\n",
    "        g_Weekly_new_cases = sum(New_daily_cases, na.rm = TRUE),\n",
    "        g_Weekly_new_deaths = sum(New_daily_deaths, na.rm = TRUE)\n",
    ")\n",
    "\n",
    "tail(daily_global_combo)\n",
    "tail(weekly_global_combo)"
   ]
  },
  {
   "cell_type": "code",
   "execution_count": 9,
   "metadata": {
    "vscode": {
     "languageId": "r"
    }
   },
   "outputs": [],
   "source": [
    "# start plotting soon for testing, so this will set global fig dimensions\n",
    "options(repr.plot.width = 10, repr.plot.height = 6)"
   ]
  },
  {
   "cell_type": "code",
   "execution_count": null,
   "metadata": {
    "vscode": {
     "languageId": "r"
    }
   },
   "outputs": [],
   "source": [
    "ggplot(data = weekly_global_combo, aes(x = Week, y = g_Weekly_new_cases)) +\n",
    "  geom_bar(stat = \"identity\", fill = \"blue\") +\n",
    "  labs(\n",
    "    title = \"Global Weekly Cases\",\n",
    "    x = \"Week\",\n",
    "    y = \"New Cases\"\n",
    "  ) +\n",
    "  theme_minimal()\n",
    "\n",
    "ggplot(data = weekly_global_combo, aes(x = Week, y = g_Weekly_new_deaths)) +\n",
    "  geom_bar(stat = \"identity\", fill = \"blue\") +\n",
    "  labs(\n",
    "    title = \"Global Weekly Deaths\",\n",
    "    x = \"Week\",\n",
    "    y = \"New Deaths\"\n",
    "  ) +\n",
    "  theme_minimal()\n"
   ]
  },
  {
   "cell_type": "markdown",
   "metadata": {},
   "source": [
    "That looks good, and I can see some general trends in deaths over time, so I think I can move forward with calculated the ratio of deaths to cases, which will also allow me to compare it on the same scale to the US data later."
   ]
  },
  {
   "cell_type": "code",
   "execution_count": null,
   "metadata": {
    "vscode": {
     "languageId": "r"
    }
   },
   "outputs": [],
   "source": [
    "weekly_global_combo <- weekly_global_combo %>%\n",
    "    mutate(g_Weekly_death_to_case_ratio = (g_Weekly_new_deaths / g_Weekly_new_cases)* 100)\n",
    "\n",
    "tail(weekly_global_combo)"
   ]
  },
  {
   "cell_type": "code",
   "execution_count": null,
   "metadata": {
    "vscode": {
     "languageId": "r"
    }
   },
   "outputs": [],
   "source": [
    "ggplot(data = weekly_global_combo, aes(x = Week, y = g_Weekly_death_to_case_ratio)) +\n",
    "  geom_bar(stat = \"identity\", fill = \"blue\") +\n",
    "  labs(\n",
    "    title = \"Weekly New Deaths to Cases Ratio (%)\",\n",
    "    x = \"Week\",\n",
    "    y = \"Death/Case Ratio (%)\"\n",
    "  ) +\n",
    "  theme_minimal()"
   ]
  },
  {
   "cell_type": "markdown",
   "metadata": {},
   "source": [
    "I'm using pretty general vaccine availability dates and using as somewhat arbitrary one year span as the \"rollout\" duration. The post- to pre-vaccine comparison will be the most important in the end."
   ]
  },
  {
   "cell_type": "code",
   "execution_count": null,
   "metadata": {
    "vscode": {
     "languageId": "r"
    }
   },
   "outputs": [],
   "source": [
    "# set phase dates\n",
    "vac_rollout_start <- as.Date(\"2020-12-01\")\n",
    "vac_rollout_end <- as.Date(\"2021-12-01\")\n",
    "\n",
    "# add vaccine phase code\n",
    "weekly_global_combo <- weekly_global_combo %>%\n",
    "    mutate(Phase = case_when(\n",
    "            Week < vac_rollout_start ~ \"1. Pre\",\n",
    "            Week >= vac_rollout_start & Week < vac_rollout_end ~ \"2. Rollout\",\n",
    "            Week >= vac_rollout_end ~ \"3. Post\"\n",
    "    ))\n",
    "\n",
    "tail(weekly_global_combo)"
   ]
  },
  {
   "cell_type": "markdown",
   "metadata": {},
   "source": [
    "That looks good, so now I'll just calculate some rudimentary death/case ratio averages for each phase."
   ]
  },
  {
   "cell_type": "code",
   "execution_count": null,
   "metadata": {
    "vscode": {
     "languageId": "r"
    }
   },
   "outputs": [],
   "source": [
    "global_phase_means <- weekly_global_combo %>%\n",
    "    group_by(Phase) %>% \n",
    "    summarise(global_phase_avg = mean(g_Weekly_death_to_case_ratio, na.rm = TRUE))\n",
    "\n",
    "global_phase_means"
   ]
  },
  {
   "cell_type": "code",
   "execution_count": null,
   "metadata": {
    "vscode": {
     "languageId": "r"
    }
   },
   "outputs": [],
   "source": [
    "global_phase_means_plot <- ggplot(data = global_phase_means, aes(x = Phase, y = global_phase_avg)) +\n",
    "  geom_bar(stat = \"identity\", fill = \"blue\") +\n",
    "  labs(\n",
    "    title = \"Global Phase Average Ratio\",\n",
    "    x = \"Phase\",\n",
    "    y = \"Average Death to Case ratio (%)\"\n",
    "  ) +\n",
    "  theme_minimal()\n",
    "\n",
    "global_phase_means_plot"
   ]
  },
  {
   "cell_type": "markdown",
   "metadata": {},
   "source": [
    "## Model development\n",
    "The visuals and simple checks all indicate that the ratio of deaths to cases were much lower after the vaccine rollout. Now I'll model that with a multi-part (or interrupted) linear analysis for each phase."
   ]
  },
  {
   "cell_type": "markdown",
   "metadata": {},
   "source": [
    "### Test model with global data"
   ]
  },
  {
   "cell_type": "code",
   "execution_count": null,
   "metadata": {
    "vscode": {
     "languageId": "r"
    }
   },
   "outputs": [],
   "source": [
    "# do a simple phased linear regression\n",
    "global_phase_model <- lm(g_Weekly_death_to_case_ratio ~ Week * factor(Phase), data = weekly_global_combo)\n",
    "\n",
    "summary(global_phase_model)"
   ]
  },
  {
   "cell_type": "code",
   "execution_count": 17,
   "metadata": {
    "vscode": {
     "languageId": "r"
    }
   },
   "outputs": [],
   "source": [
    "weekly_global_combo$g_Modeled <- predict(global_phase_model)"
   ]
  },
  {
   "cell_type": "code",
   "execution_count": null,
   "metadata": {
    "vscode": {
     "languageId": "r"
    }
   },
   "outputs": [],
   "source": [
    "global_ratio_data_model <- ggplot(weekly_global_combo, aes(x = Week)) +\n",
    "  geom_line(aes(y = g_Weekly_death_to_case_ratio), color = \"blue\") +  \n",
    "  geom_line(aes(y = g_Modeled), color = \"red\") +  \n",
    "  labs(title = \"Global Data and Phase Model\",\n",
    "       x = \"Week\", y = \"Ratio\") +\n",
    "  geom_vline(xintercept = vac_rollout_start, linetype = \"dashed\", color = \"black\") +  \n",
    "  geom_vline(xintercept = vac_rollout_end, linetype = \"dashed\", color = \"black\") +  \n",
    "  theme_minimal()\n",
    "\n",
    "global_ratio_data_model"
   ]
  },
  {
   "cell_type": "markdown",
   "metadata": {},
   "source": [
    "### US Data clean and model prep\n",
    "Now I want to do the same thing for the USA data, then I'll replot everything at the end"
   ]
  },
  {
   "cell_type": "code",
   "execution_count": null,
   "metadata": {
    "vscode": {
     "languageId": "r"
    }
   },
   "outputs": [],
   "source": [
    "# make a simple us daily cases df with a weekly column as well\n",
    "us_daily_cases <- us_cases_clean %>%\n",
    "    group_by(Date) %>%\n",
    "    summarise(Total_cases = sum(Cases)) %>%\n",
    "    mutate(New_daily_cases = Total_cases - lag(Total_cases, n = 1, default = NA)) %>%\n",
    "    mutate(Week = floor_date(Date, unit = \"week\", week_start = 1))\n",
    "\n",
    "us_daily_deaths <- us_deaths_clean %>%\n",
    "    group_by(Date) %>%\n",
    "    summarise(Total_deaths = sum(Deaths)) %>%\n",
    "    mutate(New_daily_deaths = Total_deaths - lag(Total_deaths, n = 1, default = NA)) %>%\n",
    "    mutate(Week = floor_date(Date, unit = \"week\", week_start = 1))\n",
    "\n",
    "# combine daily deaths and cases \n",
    "daily_us_combo <- left_join(us_daily_cases, us_daily_deaths, by = \"Date\")\n",
    "\n",
    "daily_us_combo <- daily_us_combo %>%\n",
    "    select(-Week.x) %>%\n",
    "    rename(Week = Week.y)\n",
    "\n",
    "# create a weekly US death/cases df\n",
    "weekly_us_combo <- daily_us_combo %>%\n",
    "    group_by(Week) %>%\n",
    "    summarise(\n",
    "        us_Weekly_total_cases = last(Total_cases),\n",
    "        us_Weekly_total_deaths = last(Total_deaths),\n",
    "        us_Weekly_new_cases = sum(New_daily_cases, na.rm = TRUE),\n",
    "        us_Weekly_new_deaths = sum(New_daily_deaths, na.rm = TRUE)\n",
    ")\n",
    "\n",
    "\n",
    "ggplot(data = weekly_us_combo, aes(x = Week, y = us_Weekly_new_cases)) +\n",
    "  geom_bar(stat = \"identity\", fill = \"blue\") +\n",
    "  labs(\n",
    "    title = \"USA Weekly Cases\",\n",
    "    x = \"Week\",\n",
    "    y = \"New Cases\"\n",
    "  ) +\n",
    "  theme_minimal()\n",
    "\n",
    "ggplot(data = weekly_us_combo, aes(x = Week, y = us_Weekly_new_deaths)) +\n",
    "  geom_bar(stat = \"identity\", fill = \"blue\") +\n",
    "  labs(\n",
    "    title = \"USA Weekly Deaths\",\n",
    "    x = \"Week\",\n",
    "    y = \"New Deaths\"\n",
    "  ) +\n",
    "  theme_minimal()\n"
   ]
  },
  {
   "cell_type": "code",
   "execution_count": null,
   "metadata": {
    "vscode": {
     "languageId": "r"
    }
   },
   "outputs": [],
   "source": [
    "\n",
    "weekly_us_combo <- weekly_us_combo %>%\n",
    "    mutate(us_Weekly_death_to_case_ratio = (us_Weekly_new_deaths / us_Weekly_new_cases)* 100)\n",
    "\n",
    "ggplot(data = weekly_us_combo, aes(x = Week, y = us_Weekly_death_to_case_ratio)) +\n",
    "  geom_bar(stat = \"identity\", fill = \"blue\") +\n",
    "  labs(\n",
    "    title = \"Weekly New Deaths to Cases Ratio (%)\",\n",
    "    x = \"Week\",\n",
    "    y = \"USA Death/Case Ratio (%)\"\n",
    "  ) +\n",
    "  theme_minimal()\n",
    "\n",
    "weekly_us_combo <- weekly_us_combo %>%\n",
    "    mutate(Phase = case_when(\n",
    "            Week < vac_rollout_start ~ \"1. Pre\",\n",
    "            Week >= vac_rollout_start & Week < vac_rollout_end ~ \"2. Rollout\",\n",
    "            Week >= vac_rollout_end ~ \"3. Post\"\n",
    "    ))\n",
    "\n",
    "# check that the phase and ratio calcs all worked correctly\n",
    "tail(weekly_us_combo)\n",
    "\n"
   ]
  },
  {
   "cell_type": "code",
   "execution_count": null,
   "metadata": {
    "vscode": {
     "languageId": "r"
    }
   },
   "outputs": [],
   "source": [
    "# calculate phase means\n",
    "us_phase_means <- weekly_us_combo %>%\n",
    "    group_by(Phase) %>% \n",
    "    summarise(us_phase_avg = mean(us_Weekly_death_to_case_ratio, na.rm = TRUE))\n",
    "\n",
    "# display the phase means\n",
    "us_phase_means\n",
    "\n",
    "# plot phase means\n",
    "us_phase_means_plot <- ggplot(data = us_phase_means, aes(x = Phase, y = us_phase_avg)) +\n",
    "  geom_bar(stat = \"identity\", fill = \"blue\") +\n",
    "  labs(\n",
    "    title = \"USA Phase Average Ratio\",\n",
    "    x = \"Phase\",\n",
    "    y = \"Average Death to Case ratio (%)\"\n",
    "  ) +\n",
    "  theme_minimal()\n",
    "\n",
    "us_phase_means_plot"
   ]
  },
  {
   "cell_type": "code",
   "execution_count": null,
   "metadata": {
    "vscode": {
     "languageId": "r"
    }
   },
   "outputs": [],
   "source": [
    "# do a simple phased linear regression\n",
    "us_phase_model <- lm(us_Weekly_death_to_case_ratio ~ Week * factor(Phase), data = weekly_us_combo)\n",
    "\n",
    "summary(us_phase_model)\n",
    "\n",
    "weekly_us_combo$us_Modeled <- predict(us_phase_model)\n",
    "\n",
    "us_ratio_data_model <- ggplot(weekly_us_combo, aes(x = Week)) +\n",
    "  geom_line(aes(y = us_Weekly_death_to_case_ratio), color = \"blue\") +  \n",
    "  geom_line(aes(y = us_Modeled), color = \"red\") +  \n",
    "  labs(title = \"USA Data and Phase Model\",\n",
    "       x = \"Week\", y = \"Ratio\") +\n",
    "  geom_vline(xintercept = vac_rollout_start, linetype = \"dashed\", color = \"black\") +  \n",
    "  geom_vline(xintercept = vac_rollout_end, linetype = \"dashed\", color = \"black\") +  \n",
    "  theme_minimal()\n",
    "\n",
    "us_ratio_data_model\n"
   ]
  },
  {
   "cell_type": "code",
   "execution_count": null,
   "metadata": {
    "vscode": {
     "languageId": "r"
    }
   },
   "outputs": [],
   "source": [
    "# join the global and USA data to see if I can plot them together nicely\n",
    "combined_means <- inner_join(global_phase_means, us_phase_means, by = \"Phase\")\n",
    "combined_means\n"
   ]
  },
  {
   "cell_type": "markdown",
   "metadata": {},
   "source": [
    "## Final Models and Visuals"
   ]
  },
  {
   "cell_type": "markdown",
   "metadata": {},
   "source": [
    "### Combined phase averages"
   ]
  },
  {
   "cell_type": "code",
   "execution_count": null,
   "metadata": {
    "vscode": {
     "languageId": "r"
    }
   },
   "outputs": [],
   "source": [
    "\n",
    "# Reshape the data to long format for plotting\n",
    "long_combined_means <- combined_means %>%\n",
    "  pivot_longer(cols = c(global_phase_avg, us_phase_avg), \n",
    "               names_to = \"Region\", \n",
    "               values_to = \"Phase_avg\") %>%\n",
    "  mutate(Region = ifelse(Region == \"global_phase_avg\", \"Global\", \"USA\"))\n",
    "\n",
    "long_combined_means\n",
    "\n",
    "combined_means_plot <- ggplot(data = long_combined_means,\n",
    "    aes(x = Phase, y = Phase_avg, fill = Region)) +\n",
    "    geom_bar(stat = \"identity\", position = \"dodge\") +\n",
    "    scale_fill_manual(values = c(\"Global\" = \"blue\", \"USA\" = \"red\")) +\n",
    "    labs(\n",
    "        title = \"Global and USA Phase Average Ratio\",\n",
    "        x = \"Phase\",\n",
    "        y = \"Average Death to Case Ratio\") +\n",
    "    theme_minimal()\n",
    "\n",
    "print(combined_means_plot)"
   ]
  },
  {
   "cell_type": "code",
   "execution_count": null,
   "metadata": {
    "vscode": {
     "languageId": "r"
    }
   },
   "outputs": [],
   "source": [
    "combined_model_df <- inner_join(weekly_global_combo, weekly_us_combo, by = \"Week\")\n",
    "\n",
    "tail(combined_model_df)"
   ]
  },
  {
   "cell_type": "markdown",
   "metadata": {},
   "source": [
    "### Final Combined Models and Visuals"
   ]
  },
  {
   "cell_type": "code",
   "execution_count": null,
   "metadata": {
    "vscode": {
     "languageId": "r"
    }
   },
   "outputs": [],
   "source": [
    "combined_model_plot <- ggplot(combined_model_df, aes(x = Week)) +\n",
    "  # Global lines\n",
    "  geom_line(aes(y = g_Weekly_death_to_case_ratio, color = \"Global\")) +  \n",
    "  geom_line(aes(y = g_Modeled, color = \"Global\", linetype = \"Global\")) +  \n",
    "  # USA lines\n",
    "  geom_line(aes(y = us_Weekly_death_to_case_ratio, color = \"USA\")) +\n",
    "  geom_line(aes(y = us_Modeled, color = \"USA\", linetype = \"USA\")\n",
    "  ) +\n",
    "  labs(\n",
    "    title = \"Global and USA Death to Case Ratio and Phase Models\",\n",
    "    x = \"Date\",\n",
    "    y = \"Death to Case Ratio\"\n",
    "  ) +\n",
    "  scale_color_manual(name = \"Ratio Data\", values = c(\"Global\" = \"blue\", \"USA\" = \"red\")) + \n",
    "  scale_linetype_manual(name = \"Models\", values = c(\"Global\" = \"dashed\", \"USA\" = \"dotted\")) + \n",
    "\n",
    "theme_minimal()\n",
    "\n",
    "print(combined_means_plot)\n",
    "print(combined_model_plot)"
   ]
  },
  {
   "cell_type": "markdown",
   "metadata": {},
   "source": [
    "I think that accomplishes the goal. With these two figures we can see the changes in the death to cases ratios before and after (and during) the vaccine rollout for the global and USA datasets, as well as the general linear trend during each phase."
   ]
  },
  {
   "cell_type": "markdown",
   "metadata": {},
   "source": [
    "## Bias statement\n",
    "There are a few potential sources of bias or inaccuracy in this data and the analysis.\n",
    "\n",
    "* Collection bias\n",
    "    *  This data was taken from the Johns Hopkins Covid project source without modification. Johns Hopkins is assumed to be a credible source with good data handling practices, but the accuracy of this data is still dependent on the accuracy of the data recorded and reporting by each region. Countries or sub-regions with less developed public health infrastructured may be missing or under-reported.\n",
    "* Analysis bias\n",
    "    * A single start and end date were used to define the vaccine rollout phase. In reality, several countries (mostly more wealthy) had access to the vaccines months before poorer countries and were able to distribute them to the general population much more rapidly.\n",
    "    * Death counts are likely to causally lag case counts on the order of a few weeks. That lag wasn't considered when calculating the death to case ratios. It was assumed that over periods as long as the vaccine phases that the ratios would stabilize so that the averages would be meaningful representations of those phases. More granular analysis would require account for the case to death time lag.\n",
    "    * Specific vaccine rates were not considered as they weren't included in the data. The demonstrated decrease in the death to case ratios can be correlated to the general availability of vaccines, but further analysis of those ratios for specific regions or over smaller time or any quantitative assessment of vaccine effectiveness would require adjusting for specific vaccination rates."
   ]
  },
  {
   "cell_type": "code",
   "execution_count": null,
   "metadata": {
    "vscode": {
     "languageId": "r"
    }
   },
   "outputs": [],
   "source": [
    "sessionInfo()"
   ]
  }
 ],
 "metadata": {
  "kernelspec": {
   "display_name": "R",
   "language": "R",
   "name": "ir"
  },
  "language_info": {
   "codemirror_mode": "r",
   "file_extension": ".r",
   "mimetype": "text/x-r-source",
   "name": "R",
   "pygments_lexer": "r",
   "version": "4.4.1"
  }
 },
 "nbformat": 4,
 "nbformat_minor": 2
}
