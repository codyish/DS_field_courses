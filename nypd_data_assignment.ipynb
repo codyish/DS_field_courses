{
 "cells": [
  {
   "cell_type": "raw",
   "metadata": {
    "vscode": {
     "languageId": "raw"
    }
   },
   "source": [
    "---\n",
    "title: \"NYPD Shooting Assignment\"\n",
    "author: Cody S\n",
    "format:\n",
    "  html: default\n",
    "  pdf: default\n",
    "  docx: default\n",
    "---\n"
   ]
  },
  {
   "cell_type": "markdown",
   "metadata": {},
   "source": [
    "Import, tidy and analyze the NYPD Shooting Incident dataset obtained. Be sure your project is reproducible and contains some visualization and analysis. You may use the data to do any analysis that is of interest to you. You should include at least two visualizations and one model. Be sure to identify any bias possible in the data and in your analysis."
   ]
  },
  {
   "cell_type": "code",
   "execution_count": 1,
   "metadata": {
    "vscode": {
     "languageId": "r"
    }
   },
   "outputs": [
    {
     "name": "stderr",
     "output_type": "stream",
     "text": [
      "-- \u001b[1mAttaching core tidyverse packages\u001b[22m ------------------------ tidyverse 2.0.0 --\n",
      "\u001b[32mv\u001b[39m \u001b[34mdplyr    \u001b[39m 1.1.4     \u001b[32mv\u001b[39m \u001b[34mreadr    \u001b[39m 2.1.5\n",
      "\u001b[32mv\u001b[39m \u001b[34mforcats  \u001b[39m 1.0.0     \u001b[32mv\u001b[39m \u001b[34mstringr  \u001b[39m 1.5.1\n",
      "\u001b[32mv\u001b[39m \u001b[34mggplot2  \u001b[39m 3.5.1     \u001b[32mv\u001b[39m \u001b[34mtibble   \u001b[39m 3.2.1\n",
      "\u001b[32mv\u001b[39m \u001b[34mlubridate\u001b[39m 1.9.3     \u001b[32mv\u001b[39m \u001b[34mtidyr    \u001b[39m 1.3.1\n",
      "\u001b[32mv\u001b[39m \u001b[34mpurrr    \u001b[39m 1.0.2     \n",
      "-- \u001b[1mConflicts\u001b[22m ------------------------------------------ tidyverse_conflicts() --\n",
      "\u001b[31mx\u001b[39m \u001b[34mdplyr\u001b[39m::\u001b[32mfilter()\u001b[39m masks \u001b[34mstats\u001b[39m::filter()\n",
      "\u001b[31mx\u001b[39m \u001b[34mdplyr\u001b[39m::\u001b[32mlag()\u001b[39m    masks \u001b[34mstats\u001b[39m::lag()\n",
      "\u001b[36mi\u001b[39m Use the conflicted package (\u001b[3m\u001b[34m<http://conflicted.r-lib.org/>\u001b[39m\u001b[23m) to force all conflicts to become errors\n"
     ]
    }
   ],
   "source": [
    "library(tidyverse)\n",
    "library(lubridate)"
   ]
  },
  {
   "cell_type": "code",
   "execution_count": 2,
   "metadata": {
    "vscode": {
     "languageId": "r"
    }
   },
   "outputs": [
    {
     "data": {
      "text/plain": [
       "  INCIDENT_KEY        OCCUR_DATE         OCCUR_TIME            BORO          \n",
       " Min.   :  9953245   Length:28562       Length:28562       Length:28562      \n",
       " 1st Qu.: 65439914   Class :character   Class :character   Class :character  \n",
       " Median : 92711254   Mode  :character   Mode  :character   Mode  :character  \n",
       " Mean   :127405824                                                           \n",
       " 3rd Qu.:203131993                                                           \n",
       " Max.   :279758069                                                           \n",
       "                                                                             \n",
       " LOC_OF_OCCUR_DESC     PRECINCT     JURISDICTION_CODE LOC_CLASSFCTN_DESC\n",
       " Length:28562       Min.   :  1.0   Min.   :0.0000    Length:28562      \n",
       " Class :character   1st Qu.: 44.0   1st Qu.:0.0000    Class :character  \n",
       " Mode  :character   Median : 67.0   Median :0.0000    Mode  :character  \n",
       "                    Mean   : 65.5   Mean   :0.3219                      \n",
       "                    3rd Qu.: 81.0   3rd Qu.:0.0000                      \n",
       "                    Max.   :123.0   Max.   :2.0000                      \n",
       "                                    NA's   :2                           \n",
       " LOCATION_DESC      STATISTICAL_MURDER_FLAG PERP_AGE_GROUP    \n",
       " Length:28562       Length:28562            Length:28562      \n",
       " Class :character   Class :character        Class :character  \n",
       " Mode  :character   Mode  :character        Mode  :character  \n",
       "                                                              \n",
       "                                                              \n",
       "                                                              \n",
       "                                                              \n",
       "   PERP_SEX          PERP_RACE         VIC_AGE_GROUP        VIC_SEX         \n",
       " Length:28562       Length:28562       Length:28562       Length:28562      \n",
       " Class :character   Class :character   Class :character   Class :character  \n",
       " Mode  :character   Mode  :character   Mode  :character   Mode  :character  \n",
       "                                                                            \n",
       "                                                                            \n",
       "                                                                            \n",
       "                                                                            \n",
       "   VIC_RACE           X_COORD_CD        Y_COORD_CD        Latitude    \n",
       " Length:28562       Min.   : 914928   Min.   :125757   Min.   :40.51  \n",
       " Class :character   1st Qu.:1000068   1st Qu.:182912   1st Qu.:40.67  \n",
       " Mode  :character   Median :1007772   Median :194901   Median :40.70  \n",
       "                    Mean   :1009424   Mean   :208380   Mean   :40.74  \n",
       "                    3rd Qu.:1016807   3rd Qu.:239814   3rd Qu.:40.82  \n",
       "                    Max.   :1066815   Max.   :271128   Max.   :40.91  \n",
       "                                                       NA's   :59     \n",
       "   Longitude        Lon_Lat         \n",
       " Min.   :-74.25   Length:28562      \n",
       " 1st Qu.:-73.94   Class :character  \n",
       " Median :-73.92   Mode  :character  \n",
       " Mean   :-73.91                     \n",
       " 3rd Qu.:-73.88                     \n",
       " Max.   :-73.70                     \n",
       " NA's   :59                         "
      ]
     },
     "metadata": {},
     "output_type": "display_data"
    }
   ],
   "source": [
    "source_url <- 'https://data.cityofnewyork.us/api/views/833y-fsy8/rows.csv?accessType=DOWNLOAD'\n",
    "\n",
    "incident_df <- read.csv(source_url)\n",
    "summary(incident_df)"
   ]
  },
  {
   "cell_type": "code",
   "execution_count": 3,
   "metadata": {
    "vscode": {
     "languageId": "r"
    }
   },
   "outputs": [
    {
     "name": "stdout",
     "output_type": "stream",
     "text": [
      "Rows: 28,562\n",
      "Columns: 21\n",
      "$ INCIDENT_KEY            \u001b[3m\u001b[90m<int>\u001b[39m\u001b[23m 244608249, 247542571, 84967535, 202853370, 270~\n",
      "$ OCCUR_DATE              \u001b[3m\u001b[90m<chr>\u001b[39m\u001b[23m \"05/05/2022\", \"07/04/2022\", \"05/27/2012\", \"09/~\n",
      "$ OCCUR_TIME              \u001b[3m\u001b[90m<chr>\u001b[39m\u001b[23m \"00:10:00\", \"22:20:00\", \"19:35:00\", \"21:00:00\"~\n",
      "$ BORO                    \u001b[3m\u001b[90m<chr>\u001b[39m\u001b[23m \"MANHATTAN\", \"BRONX\", \"QUEENS\", \"BRONX\", \"BROO~\n",
      "$ LOC_OF_OCCUR_DESC       \u001b[3m\u001b[90m<chr>\u001b[39m\u001b[23m \"INSIDE\", \"OUTSIDE\", \"\", \"\", \"\", \"\", \"\", \"\", \"~\n",
      "$ PRECINCT                \u001b[3m\u001b[90m<int>\u001b[39m\u001b[23m 14, 48, 103, 42, 83, 23, 113, 77, 48, 49, 73, ~\n",
      "$ JURISDICTION_CODE       \u001b[3m\u001b[90m<int>\u001b[39m\u001b[23m 0, 0, 0, 0, 0, 2, 0, 0, 0, 0, 0, 0, 0, 0, 0, 0~\n",
      "$ LOC_CLASSFCTN_DESC      \u001b[3m\u001b[90m<chr>\u001b[39m\u001b[23m \"COMMERCIAL\", \"STREET\", \"\", \"\", \"\", \"\", \"\", \"\"~\n",
      "$ LOCATION_DESC           \u001b[3m\u001b[90m<chr>\u001b[39m\u001b[23m \"VIDEO STORE\", \"(null)\", \"\", \"\", \"\", \"MULTI DW~\n",
      "$ STATISTICAL_MURDER_FLAG \u001b[3m\u001b[90m<chr>\u001b[39m\u001b[23m \"true\", \"true\", \"false\", \"false\", \"false\", \"fa~\n",
      "$ PERP_AGE_GROUP          \u001b[3m\u001b[90m<chr>\u001b[39m\u001b[23m \"25-44\", \"(null)\", \"\", \"25-44\", \"25-44\", \"\", \"~\n",
      "$ PERP_SEX                \u001b[3m\u001b[90m<chr>\u001b[39m\u001b[23m \"M\", \"(null)\", \"\", \"M\", \"M\", \"\", \"\", \"\", \"\", \"~\n",
      "$ PERP_RACE               \u001b[3m\u001b[90m<chr>\u001b[39m\u001b[23m \"BLACK\", \"(null)\", \"\", \"UNKNOWN\", \"BLACK\", \"\",~\n",
      "$ VIC_AGE_GROUP           \u001b[3m\u001b[90m<chr>\u001b[39m\u001b[23m \"25-44\", \"18-24\", \"18-24\", \"25-44\", \"25-44\", \"~\n",
      "$ VIC_SEX                 \u001b[3m\u001b[90m<chr>\u001b[39m\u001b[23m \"M\", \"M\", \"M\", \"M\", \"M\", \"M\", \"M\", \"M\", \"M\", \"~\n",
      "$ VIC_RACE                \u001b[3m\u001b[90m<chr>\u001b[39m\u001b[23m \"BLACK\", \"BLACK\", \"BLACK\", \"BLACK\", \"BLACK\", \"~\n",
      "$ X_COORD_CD              \u001b[3m\u001b[90m<dbl>\u001b[39m\u001b[23m 986050, 1016802, 1048632, 1014493, 1009149, 99~\n",
      "$ Y_COORD_CD              \u001b[3m\u001b[90m<dbl>\u001b[39m\u001b[23m 214231.0, 250581.0, 198262.0, 242565.0, 190104~\n",
      "$ Latitude                \u001b[3m\u001b[90m<dbl>\u001b[39m\u001b[23m 40.75469, 40.85440, 40.71063, 40.83242, 40.688~\n",
      "$ Longitude               \u001b[3m\u001b[90m<dbl>\u001b[39m\u001b[23m -73.99350, -73.88233, -73.76777, -73.89071, -7~\n",
      "$ Lon_Lat                 \u001b[3m\u001b[90m<chr>\u001b[39m\u001b[23m \"POINT (-73.9935 40.754692)\", \"POINT (-73.8823~\n"
     ]
    }
   ],
   "source": [
    "glimpse(incident_df)"
   ]
  },
  {
   "cell_type": "code",
   "execution_count": 23,
   "metadata": {
    "vscode": {
     "languageId": "r"
    }
   },
   "outputs": [
    {
     "name": "stdout",
     "output_type": "stream",
     "text": [
      "$LOC_CLASSFCTN_DESC\n",
      "\n",
      "                 (null)  COMMERCIAL    DWELLING     HOUSING       OTHER \n",
      "      25596           2         208         243         460          59 \n",
      "PARKING LOT  PLAYGROUND      STREET     TRANSIT     VEHICLE \n",
      "         15          41        1886          23          29 \n",
      "\n",
      "$LOCATION_DESC\n",
      "\n",
      "                                             (null)                       ATM \n",
      "                    14977                      1711                         1 \n",
      "                     BANK            BAR/NIGHT CLUB         BEAUTY/NAIL SALON \n",
      "                        3                       668                       119 \n",
      "              CANDY STORE               CHAIN STORE                CHECK CASH \n",
      "                        7                         7                         1 \n",
      "        CLOTHING BOUTIQUE           COMMERCIAL BLDG                DEPT STORE \n",
      "                       14                       304                         9 \n",
      "           DOCTOR/DENTIST                DRUG STORE       DRY CLEANER/LAUNDRY \n",
      "                        1                        14                        32 \n",
      "        FACTORY/WAREHOUSE                 FAST FOOD               GAS STATION \n",
      "                        8                       130                        74 \n",
      "           GROCERY/BODEGA      GYM/FITNESS FACILITY                  HOSPITAL \n",
      "                      750                         4                        77 \n",
      "              HOTEL/MOTEL             JEWELRY STORE              LIQUOR STORE \n",
      "                       35                        14                        42 \n",
      "             LOAN COMPANY   MULTI DWELL - APT BUILD MULTI DWELL - PUBLIC HOUS \n",
      "                        1                      2964                      5007 \n",
      "                     NONE          PHOTO/COPY STORE                 PVT HOUSE \n",
      "                      175                         1                       983 \n",
      "         RESTAURANT/DINER                    SCHOOL                SHOE STORE \n",
      "                      212                         1                        10 \n",
      "           SMALL MERCHANT SOCIAL CLUB/POLICY LOCATI          STORAGE FACILITY \n",
      "                       44                        73                         1 \n",
      "       STORE UNCLASSIFIED               SUPERMARKET           TELECOMM. STORE \n",
      "                       37                        21                        11 \n",
      "            VARIETY STORE               VIDEO STORE \n",
      "                       11                         8 \n",
      "\n",
      "$PERP_RACE\n",
      "\n",
      "                                                       (null) \n",
      "                          9310                           1141 \n",
      "AMERICAN INDIAN/ALASKAN NATIVE       ASIAN / PACIFIC ISLANDER \n",
      "                             2                            169 \n",
      "                         BLACK                 BLACK HISPANIC \n",
      "                         11903                           1392 \n",
      "                       UNKNOWN                          WHITE \n",
      "                          1837                            298 \n",
      "                WHITE HISPANIC \n",
      "                          2510 \n",
      "\n",
      "$VIC_RACE\n",
      "\n",
      "AMERICAN INDIAN/ALASKAN NATIVE       ASIAN / PACIFIC ISLANDER \n",
      "                            11                            440 \n",
      "                         BLACK                 BLACK HISPANIC \n",
      "                         20235                           2795 \n",
      "                       UNKNOWN                          WHITE \n",
      "                            70                            728 \n",
      "                WHITE HISPANIC \n",
      "                          4283 \n",
      "\n",
      "$LOC_OF_OCCUR_DESC\n",
      "\n",
      "         INSIDE OUTSIDE \n",
      "  25596     460    2506 \n",
      "\n"
     ]
    }
   ],
   "source": [
    "\n",
    "\n",
    "desc_counts <- lapply(incident_df[, c(\"LOC_CLASSFCTN_DESC\", \"LOCATION_DESC\", \"PERP_RACE\", \"VIC_RACE\",\"LOC_OF_OCCUR_DESC\")], table)\n",
    "\n",
    "print(desc_counts)"
   ]
  },
  {
   "cell_type": "markdown",
   "metadata": {},
   "source": [
    "```r\n",
    "# Modify, reorder, and select columns in a pipeline\n",
    "cleaned_df <- df %>%\n",
    "  # Rename 'category' to 'type' and 'value' to 'score'\n",
    "  rename(type = category, score = value) %>%\n",
    "  \n",
    "  # Reorder columns: put 'type' first, followed by 'id', and 'date' and 'score'\n",
    "  select(type, id, date, score) %>%\n",
    "  \n",
    "  # Remove rows where 'score' is less than 15\n",
    "  selec(score >= 15)\n",
    "\n",
    "  # remove completely\n",
    "  select(-bad_column)\n",
    "  ```"
   ]
  },
  {
   "cell_type": "markdown",
   "metadata": {},
   "source": [
    "- [ ] Keep cleaning, renaming, removing\n",
    "- [ ] Aggregate by day for over-time viz\n",
    "- [ ] Aggregate by month, boro\n",
    "- [ ] Figure out a model?"
   ]
  },
  {
   "cell_type": "code",
   "execution_count": 9,
   "metadata": {
    "vscode": {
     "languageId": "r"
    }
   },
   "outputs": [
    {
     "name": "stdout",
     "output_type": "stream",
     "text": [
      "Rows: 28,562\n",
      "Columns: 22\n",
      "$ INCIDENT_KEY            \u001b[3m\u001b[90m<int>\u001b[39m\u001b[23m 244608249, 247542571, 84967535, 202853370, 270~\n",
      "$ OCCUR_DATE              \u001b[3m\u001b[90m<chr>\u001b[39m\u001b[23m \"05/05/2022\", \"07/04/2022\", \"05/27/2012\", \"09/~\n",
      "$ OCCUR_TIME              \u001b[3m\u001b[90m<chr>\u001b[39m\u001b[23m \"00:10:00\", \"22:20:00\", \"19:35:00\", \"21:00:00\"~\n",
      "$ BORO                    \u001b[3m\u001b[90m<chr>\u001b[39m\u001b[23m \"MANHATTAN\", \"BRONX\", \"QUEENS\", \"BRONX\", \"BROO~\n",
      "$ LOC_OF_OCCUR_DESC       \u001b[3m\u001b[90m<chr>\u001b[39m\u001b[23m \"INSIDE\", \"OUTSIDE\", \"\", \"\", \"\", \"\", \"\", \"\", \"~\n",
      "$ PRECINCT                \u001b[3m\u001b[90m<int>\u001b[39m\u001b[23m 14, 48, 103, 42, 83, 23, 113, 77, 48, 49, 73, ~\n",
      "$ JURISDICTION_CODE       \u001b[3m\u001b[90m<int>\u001b[39m\u001b[23m 0, 0, 0, 0, 0, 2, 0, 0, 0, 0, 0, 0, 0, 0, 0, 0~\n",
      "$ LOC_CLASSFCTN_DESC      \u001b[3m\u001b[90m<chr>\u001b[39m\u001b[23m \"COMMERCIAL\", \"STREET\", \"\", \"\", \"\", \"\", \"\", \"\"~\n",
      "$ LOCATION_DESC           \u001b[3m\u001b[90m<chr>\u001b[39m\u001b[23m \"VIDEO STORE\", \"(null)\", \"\", \"\", \"\", \"MULTI DW~\n",
      "$ STATISTICAL_MURDER_FLAG \u001b[3m\u001b[90m<chr>\u001b[39m\u001b[23m \"true\", \"true\", \"false\", \"false\", \"false\", \"fa~\n",
      "$ PERP_AGE_GROUP          \u001b[3m\u001b[90m<chr>\u001b[39m\u001b[23m \"25-44\", \"(null)\", \"\", \"25-44\", \"25-44\", \"\", \"~\n",
      "$ PERP_SEX                \u001b[3m\u001b[90m<chr>\u001b[39m\u001b[23m \"M\", \"(null)\", \"\", \"M\", \"M\", \"\", \"\", \"\", \"\", \"~\n",
      "$ PERP_RACE               \u001b[3m\u001b[90m<chr>\u001b[39m\u001b[23m \"BLACK\", \"(null)\", \"\", \"UNKNOWN\", \"BLACK\", \"\",~\n",
      "$ VIC_AGE_GROUP           \u001b[3m\u001b[90m<chr>\u001b[39m\u001b[23m \"25-44\", \"18-24\", \"18-24\", \"25-44\", \"25-44\", \"~\n",
      "$ VIC_SEX                 \u001b[3m\u001b[90m<chr>\u001b[39m\u001b[23m \"M\", \"M\", \"M\", \"M\", \"M\", \"M\", \"M\", \"M\", \"M\", \"~\n",
      "$ VIC_RACE                \u001b[3m\u001b[90m<chr>\u001b[39m\u001b[23m \"BLACK\", \"BLACK\", \"BLACK\", \"BLACK\", \"BLACK\", \"~\n",
      "$ X_COORD_CD              \u001b[3m\u001b[90m<dbl>\u001b[39m\u001b[23m 986050, 1016802, 1048632, 1014493, 1009149, 99~\n",
      "$ Y_COORD_CD              \u001b[3m\u001b[90m<dbl>\u001b[39m\u001b[23m 214231.0, 250581.0, 198262.0, 242565.0, 190104~\n",
      "$ Latitude                \u001b[3m\u001b[90m<dbl>\u001b[39m\u001b[23m 40.75469, 40.85440, 40.71063, 40.83242, 40.688~\n",
      "$ Longitude               \u001b[3m\u001b[90m<dbl>\u001b[39m\u001b[23m -73.99350, -73.88233, -73.76777, -73.89071, -7~\n",
      "$ Lon_Lat                 \u001b[3m\u001b[90m<chr>\u001b[39m\u001b[23m \"POINT (-73.9935 40.754692)\", \"POINT (-73.8823~\n",
      "$ datetime                \u001b[3m\u001b[90m<dttm>\u001b[39m\u001b[23m 2022-05-05 00:10:00, 2022-07-04 22:20:00, 201~\n"
     ]
    }
   ],
   "source": [
    "# make a nicer datetime column\n",
    "clean_incident_df <- incident_df %>%\n",
    "  mutate(datetime = as.POSIXct(paste(OCCUR_DATE, OCCUR_TIME), format=\"%m/%d/%Y %H:%M:%S\")\n",
    "  ) %>%\n",
    "  \n",
    "\n",
    "glimpse(clean_incident_df)"
   ]
  },
  {
   "cell_type": "code",
   "execution_count": 7,
   "metadata": {
    "vscode": {
     "languageId": "r"
    }
   },
   "outputs": [
    {
     "name": "stdout",
     "output_type": "stream",
     "text": [
      "[1] 10\n"
     ]
    }
   ],
   "source": [
    "#| label: my_chunk_name\n",
    "#| echo: false\n",
    "\n",
    "sum <- 5 + 5 \n",
    "print(sum)"
   ]
  },
  {
   "cell_type": "code",
   "execution_count": 8,
   "metadata": {
    "vscode": {
     "languageId": "r"
    }
   },
   "outputs": [
    {
     "data": {
      "text/html": [
       "'The name is cody'"
      ],
      "text/latex": [
       "'The name is cody'"
      ],
      "text/markdown": [
       "'The name is cody'"
      ],
      "text/plain": [
       "[1] \"The name is cody\""
      ]
     },
     "metadata": {},
     "output_type": "display_data"
    }
   ],
   "source": [
    "#| echo: true\n",
    "\n",
    "name <- 'cody'\n",
    "\n",
    "paste('The name is',name)\n"
   ]
  },
  {
   "cell_type": "code",
   "execution_count": null,
   "metadata": {
    "vscode": {
     "languageId": "r"
    }
   },
   "outputs": [],
   "source": []
  }
 ],
 "metadata": {
  "kernelspec": {
   "display_name": "R",
   "language": "R",
   "name": "ir"
  },
  "language_info": {
   "codemirror_mode": "r",
   "file_extension": ".r",
   "mimetype": "text/x-r-source",
   "name": "R",
   "pygments_lexer": "r",
   "version": "4.4.1"
  }
 },
 "nbformat": 4,
 "nbformat_minor": 2
}
